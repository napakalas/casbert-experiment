{
 "cells": [
  {
   "cell_type": "markdown",
   "id": "68fe45c1",
   "metadata": {},
   "source": [
    "### Load data"
   ]
  },
  {
   "cell_type": "code",
   "execution_count": null,
   "id": "241d47fe",
   "metadata": {},
   "outputs": [],
   "source": [
    "import json\n",
    "import pandas as pd\n",
    "\n",
    "with open('casbert_resources/omex_classifier_data.json', 'r') as fp:\n",
    "    final_data = json.load(fp)\n",
    "\n",
    "data = {'queries':[], 'labels':[]}\n",
    "for q, v in final_data.items():\n",
    "    if v['indexType'] != -1:\n",
    "        data['queries'] += [q]\n",
    "        data['labels'] += [v['indexType']]\n",
    "        \n",
    "df = pd.DataFrame(data)"
   ]
  },
  {
   "cell_type": "markdown",
   "id": "2a5419e0",
   "metadata": {},
   "source": [
    "#### Divide into train, validation, and test data (proportion 3:3:4)"
   ]
  },
  {
   "cell_type": "code",
   "execution_count": null,
   "id": "287a541e",
   "metadata": {},
   "outputs": [],
   "source": [
    "import numpy as np\n",
    "df_train, df_eval, df_test = np.split(df.sample(frac=1, random_state=0),[int(.3*len(df)), int(.6*len(df))])\n",
    "print(df_train.shape, df_eval.shape, df_test.shape)"
   ]
  },
  {
   "cell_type": "markdown",
   "id": "3609dc7b",
   "metadata": {},
   "source": [
    "#### Augmenting data train\n",
    "Since the data size is relatively small, we augments dt_train using nlpaug package."
   ]
  },
  {
   "cell_type": "code",
   "execution_count": null,
   "id": "28c60563",
   "metadata": {},
   "outputs": [],
   "source": [
    "import nlpaug.augmenter.word as naw\n",
    "\n",
    "aug = naw.ContextualWordEmbsAug(model_path='allenai/scibert_scivocab_uncased', action=\"substitute\")"
   ]
  },
  {
   "cell_type": "code",
   "execution_count": null,
   "id": "4fe56973",
   "metadata": {},
   "outputs": [],
   "source": [
    "zero, one = df_train[df_train['labels']==0].shape[0], df_train[df_train['labels']==1].shape[0]\n",
    "maxNumData = max(zero, one)\n",
    "times = 20\n",
    "multiplicator = {0:int(maxNumData/zero*times), 1:int(maxNumData/one*times)}\n",
    "multiplicator"
   ]
  },
  {
   "cell_type": "code",
   "execution_count": null,
   "id": "d9286d8f",
   "metadata": {},
   "outputs": [],
   "source": [
    "from tqdm import tqdm\n",
    "\n",
    "df_tr = df_train.copy()\n",
    "for row in tqdm(df_train.iloc, total=df_train.shape[0]):\n",
    "    augmented_text = aug.augment(row['queries'], n=multiplicator[row['labels']])\n",
    "    \n",
    "    df_tmp = pd.DataFrame({'queries': augmented_text, 'labels': [row['labels']]*len(augmented_text)})\n",
    "    df_tr = pd.concat([df_tr, df_tmp], ignore_index = True, axis = 0)\n",
    "\n",
    "df_train = df_tr"
   ]
  },
  {
   "cell_type": "code",
   "execution_count": null,
   "id": "6d7cf560",
   "metadata": {},
   "outputs": [],
   "source": [
    "print(df_train[df_train['labels']==1].shape[0])\n",
    "print(df_train[df_train['labels']==0].shape[0])\n",
    "print(df_eval[df_eval['labels']==1].shape)\n",
    "print(df_eval[df_eval['labels']==0].shape)\n",
    "print(df_test[df_test['labels']==1].shape)\n",
    "print(df_test[df_test['labels']==0].shape)"
   ]
  },
  {
   "cell_type": "code",
   "execution_count": null,
   "id": "0487c1dc",
   "metadata": {},
   "outputs": [],
   "source": [
    "# save df_train, df_test, and df_eval for further use\n",
    "\n",
    "df_train.to_csv('casbert_resources/omex_classifier_train.csv')\n",
    "df_eval.to_csv('casbert_resources/omex_classifier_evaluate.csv')\n",
    "df_test.to_csv('casbert_resources/omex_classifier_test.csv')"
   ]
  },
  {
   "cell_type": "markdown",
   "id": "e3104fe7-0e62-406f-bdf9-7e6e7f63bb63",
   "metadata": {},
   "source": [
    "#### TRAINING"
   ]
  },
  {
   "cell_type": "code",
   "execution_count": null,
   "id": "3a94ac3a",
   "metadata": {},
   "outputs": [],
   "source": [
    "from transformers import AutoTokenizer\n",
    "\n",
    "tokenizer = AutoTokenizer.from_pretrained(\"bert-base-cased\")"
   ]
  },
  {
   "cell_type": "code",
   "execution_count": null,
   "id": "faa0e3bc",
   "metadata": {},
   "outputs": [],
   "source": [
    "from datasets import Dataset\n",
    "train_datasets = Dataset.from_pandas(df_train)\n",
    "eval_datasets = Dataset.from_pandas(df_eval)\n",
    "test_datasets = Dataset.from_pandas(df_test)"
   ]
  },
  {
   "cell_type": "code",
   "execution_count": null,
   "id": "ad0c954d",
   "metadata": {},
   "outputs": [],
   "source": [
    "def tokenize_function(examples):\n",
    "    return tokenizer(examples[\"queries\"], padding=\"max_length\", truncation=True)\n",
    "\n",
    "train_datasets = train_datasets.map(tokenize_function, batched=True)\n",
    "eval_datasets = eval_datasets.map(tokenize_function, batched=True)\n",
    "test_datasets = test_datasets.map(tokenize_function, batched=True)"
   ]
  },
  {
   "cell_type": "code",
   "execution_count": null,
   "id": "86c6e6af",
   "metadata": {},
   "outputs": [],
   "source": [
    "from transformers import AutoModelForSequenceClassification\n",
    "\n",
    "model = AutoModelForSequenceClassification.from_pretrained(\"bert-base-cased\", num_labels=2)"
   ]
  },
  {
   "cell_type": "code",
   "execution_count": null,
   "id": "6b0da65d",
   "metadata": {},
   "outputs": [],
   "source": [
    "from transformers import TrainingArguments\n",
    "\n",
    "# training_args = TrainingArguments(\"test_trainer\")\n",
    "training_args = TrainingArguments(\"test_trainer\", evaluation_strategy=\"epoch\")\n",
    "training_args.num_train_epochs=10\n",
    "training_args"
   ]
  },
  {
   "cell_type": "code",
   "execution_count": null,
   "id": "6fd35f7a",
   "metadata": {},
   "outputs": [],
   "source": [
    "from transformers import Trainer\n",
    "\n",
    "trainer = Trainer(\n",
    "    model=model, \n",
    "    args=training_args, \n",
    "    train_dataset=train_datasets, \n",
    "    eval_dataset=eval_datasets\n",
    ")"
   ]
  },
  {
   "cell_type": "code",
   "execution_count": null,
   "id": "bae44fb2",
   "metadata": {},
   "outputs": [],
   "source": [
    "trainer.train()"
   ]
  },
  {
   "cell_type": "markdown",
   "id": "8637ba0a-9e87-4fb0-b957-38d45a26b9d6",
   "metadata": {},
   "source": [
    "#### EVALUATION"
   ]
  },
  {
   "cell_type": "code",
   "execution_count": null,
   "id": "6c758b07",
   "metadata": {},
   "outputs": [],
   "source": [
    "import numpy as np\n",
    "from datasets import load_metric\n",
    "\n",
    "metric = load_metric(\"accuracy\")\n",
    "\n",
    "def compute_metrics(eval_pred):\n",
    "    logits, labels = eval_pred\n",
    "    predictions = np.argmax(logits, axis=-1)\n",
    "    return metric.compute(predictions=predictions, references=labels)"
   ]
  },
  {
   "cell_type": "code",
   "execution_count": null,
   "id": "67fc1f1c",
   "metadata": {},
   "outputs": [],
   "source": [
    "trainer = Trainer(\n",
    "    model=model,\n",
    "    args=training_args,\n",
    "    train_dataset=train_datasets,\n",
    "    eval_dataset=test_datasets,\n",
    "    compute_metrics=compute_metrics,\n",
    ")\n",
    "trainer.evaluate()"
   ]
  },
  {
   "cell_type": "code",
   "execution_count": null,
   "id": "a09f6102",
   "metadata": {},
   "outputs": [],
   "source": [
    "inputs = tokenizer(\"version of Concentration of property of sodium in cytosol of part of cardiac myocyte\", return_tensors=\"pt\")"
   ]
  },
  {
   "cell_type": "code",
   "execution_count": null,
   "id": "8b2c71b5",
   "metadata": {},
   "outputs": [],
   "source": [
    "            inputs"
   ]
  },
  {
   "cell_type": "code",
   "execution_count": null,
   "id": "09a80fc4",
   "metadata": {},
   "outputs": [],
   "source": [
    "import torch\n",
    "\n",
    "use_cuda = torch.cuda.is_available()\n",
    "device = torch.device(\"cuda\" if use_cuda else \"cpu\")\n",
    "\n",
    "if use_cuda:\n",
    "\n",
    "    model = model.cuda()\n",
    "        \n",
    "inputs = inputs.to(device)\n",
    "outputs = model(**inputs)"
   ]
  },
  {
   "cell_type": "code",
   "execution_count": null,
   "id": "16baf097",
   "metadata": {},
   "outputs": [],
   "source": [
    "print(outputs.logits)\n",
    "print(outputs.logits.softmax(dim=-1).tolist())\n",
    "print(outputs.logits.argmax(dim=-1).tolist())"
   ]
  },
  {
   "cell_type": "code",
   "execution_count": null,
   "id": "750cd7f9",
   "metadata": {},
   "outputs": [],
   "source": [
    "# Save the trained model, so it can be reused later\n",
    "model.save_pretrained('casbert_resources/omex_trained_model')"
   ]
  }
 ],
 "metadata": {
  "kernelspec": {
   "display_name": "Python 3 (ipykernel)",
   "language": "python",
   "name": "python3"
  },
  "language_info": {
   "codemirror_mode": {
    "name": "ipython",
    "version": 3
   },
   "file_extension": ".py",
   "mimetype": "text/x-python",
   "name": "python",
   "nbconvert_exporter": "python",
   "pygments_lexer": "ipython3",
   "version": "3.9.4"
  }
 },
 "nbformat": 4,
 "nbformat_minor": 5
}
