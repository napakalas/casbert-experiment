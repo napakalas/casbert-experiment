{
 "cells": [
  {
   "cell_type": "code",
   "execution_count": null,
   "id": "cc1a6cb6-9ad3-432b-89f8-6cdda82e992a",
   "metadata": {},
   "outputs": [],
   "source": [
    "!pip install torch\n",
    "!pip install rdflib==4.2.2\n",
    "!pip install sentence-transformers\n",
    "!pip install tqdm\n",
    "!pip install https://s3-us-west-2.amazonaws.com/ai2-s2-scispacy/releases/v0.5.1/en_core_sci_scibert-0.5.1.tar.gz\n",
    "!pip install transformers\n",
    "!pip install nlpaug"
   ]
  },
  {
   "cell_type": "code",
   "execution_count": null,
   "id": "5361fd4e-773f-43a3-b3db-153a122ae8c7",
   "metadata": {},
   "outputs": [],
   "source": [
    "!wget --load-cookies /tmp/cookies.txt \"https://docs.google.com/uc?export=download&confirm=$(wget --quiet --save-cookies /tmp/cookies.txt --keep-session-cookies --no-check-certificate 'https://docs.google.com/uc?export=download&id=16asszG8tZf4kM3gLMcqE7OM_tunxI99e' -O- | sed -rn 's/.*confirm=([0-9A-Za-z_]+).*/\\1\\n/p')&id=16asszG8tZf4kM3gLMcqE7OM_tunxI99e\" -O casbert_resources.zip && rm -rf /tmp/cookies.txt"
   ]
  },
  {
   "cell_type": "code",
   "execution_count": null,
   "id": "56efd74c-a231-4434-94e3-e5d57b4a5dec",
   "metadata": {},
   "outputs": [],
   "source": [
    "!unzip casbert_resources.zip -d casbert_resource"
   ]
  }
 ],
 "metadata": {
  "kernelspec": {
   "display_name": "Python 3 (ipykernel)",
   "language": "python",
   "name": "python3"
  },
  "language_info": {
   "codemirror_mode": {
    "name": "ipython",
    "version": 3
   },
   "file_extension": ".py",
   "mimetype": "text/x-python",
   "name": "python",
   "nbconvert_exporter": "python",
   "pygments_lexer": "ipython3",
   "version": "3.9.4"
  }
 },
 "nbformat": 4,
 "nbformat_minor": 5
}
