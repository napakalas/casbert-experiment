{
 "cells": [
  {
   "cell_type": "code",
   "execution_count": null,
   "id": "cc1a6cb6-9ad3-432b-89f8-6cdda82e992a",
   "metadata": {},
   "outputs": [],
   "source": [
    "!pip install torch==1.13.02\n",
    "!pip install sentence-transformers==2.0.0\n",
    "!pip install tqdm==4.64.1\n",
    "!pip install https://s3-us-west-2.amazonaws.com/ai2-s2-scispacy/releases/v0.4.0/en_core_sci_scibert-0.4.0.tar.gz\n",
    "!pip install transformers==4.8.1\n",
    "!pip install nlpaug==1.1.11\n",
    "!pip install datasets==2.6.1\n",
    "!pip install sklearn=="
   ]
  },
  {
   "cell_type": "code",
   "execution_count": null,
   "id": "5361fd4e-773f-43a3-b3db-153a122ae8c7",
   "metadata": {},
   "outputs": [],
   "source": [
    "!wget --load-cookies /tmp/cookies.txt \"https://docs.google.com/uc?export=download&confirm=$(wget --quiet --save-cookies /tmp/cookies.txt --keep-session-cookies --no-check-certificate 'https://docs.google.com/uc?export=download&id=1K1vNMwiUFt75k2zPyP4rtXpt8sLUifB0' -O- | sed -rn 's/.*confirm=([0-9A-Za-z_]+).*/\\1\\n/p')&id=16asszG8tZf4kM3gLMcqE7OM_tunxI99e\" -O casbert_resources.zip && rm -rf /tmp/cookies.txt"
   ]
  },
  {
   "cell_type": "code",
   "execution_count": null,
   "id": "56efd74c-a231-4434-94e3-e5d57b4a5dec",
   "metadata": {},
   "outputs": [],
   "source": [
    "!unzip casbert_resources.zip -d casbert_resource"
   ]
  },
  {
   "cell_type": "code",
   "execution_count": null,
   "id": "1aa98195-f66f-4136-baeb-97f494ef0d4a",
   "metadata": {},
   "outputs": [],
   "source": []
  }
 ],
 "metadata": {
  "kernelspec": {
   "display_name": "Python 3 (ipykernel)",
   "language": "python",
   "name": "python3"
  },
  "language_info": {
   "codemirror_mode": {
    "name": "ipython",
    "version": 3
   },
   "file_extension": ".py",
   "mimetype": "text/x-python",
   "name": "python",
   "nbconvert_exporter": "python",
   "pygments_lexer": "ipython3",
   "version": "3.9.4"
  }
 },
 "nbformat": 4,
 "nbformat_minor": 5
}
